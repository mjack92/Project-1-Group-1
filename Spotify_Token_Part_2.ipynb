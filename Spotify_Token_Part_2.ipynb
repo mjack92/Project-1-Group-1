{
 "cells": [
  {
   "cell_type": "code",
   "execution_count": 16,
   "id": "5ebe00bc",
   "metadata": {},
   "outputs": [],
   "source": [
    "import requests"
   ]
  },
  {
   "cell_type": "code",
   "execution_count": 17,
   "id": "4cfe9487",
   "metadata": {},
   "outputs": [],
   "source": [
    "import base64"
   ]
  },
  {
   "cell_type": "code",
   "execution_count": null,
   "id": "a3cb05fc",
   "metadata": {},
   "outputs": [],
   "source": []
  },
  {
   "cell_type": "code",
   "execution_count": 27,
   "id": "c0953e60",
   "metadata": {},
   "outputs": [],
   "source": [
    "client_id = \"d2e9326b91f84744a65350306353b69a\"\n",
    "client_secret = \"4a30a9e7868e4e0f82109d6fbcc9a937\"\n",
    "code = \"AQAzLuSpVhq07AH20c2XjA3qLkxCgUSZ-33K9BdM_o50T58EJMiVuLi6SNlX4aCaUBpn9XvQpPwNMqh6HWPl9hNxAQAJjXRbKB_GT55BFIVjFfjqTPK3jMZTLXf0-wAETpK8quU3ZzmmJzhf9MCk2YUsAAeNpLglDssJkZRUxq7wNxfp11modadoy8QL1D8ZIZzzUyE\"\n",
    "access_token = \"BQAiGN0vLeefCuD6-4PZ_01QpXc0Plzk2aEbQrlSf1ZWrjAGmtnArw2s-ivBz4QFEGhOOrsJqv_uCMVN1cOozMKeLg7UF-mBp7X6Vmbe-h8tlmiSzq4_e7KeSCBEOdR0GPxhh78ZPaDlfdIRcawkY0FtKwoMkkRlj6RbikmMUYBWDDe8vJ6B9uh2NLew7mcjnaey\""
   ]
  },
  {
   "cell_type": "code",
   "execution_count": 19,
   "id": "1849cdc4",
   "metadata": {},
   "outputs": [],
   "source": [
    "encoded_credentials = base64.b64encode(client_id.encode() + b':' + client_secret.encode()).decode(\"utf-8\")"
   ]
  },
  {
   "cell_type": "code",
   "execution_count": 20,
   "id": "6864b0a3",
   "metadata": {},
   "outputs": [],
   "source": [
    "token_headers = {\n",
    "    \"Authorization\": \"Basic \" + encoded_credentials,\n",
    "    \"Content-Type\": \"application/x-www-form-urlencoded\"\n",
    "}"
   ]
  },
  {
   "cell_type": "code",
   "execution_count": 21,
   "id": "986c077a",
   "metadata": {},
   "outputs": [],
   "source": [
    "token_data = {\n",
    "    \"grant_type\": \"authorization_code\",\n",
    "    \"code\": code,\n",
    "    \"redirect_uri\": \"http://localhost:7777/callback\"\n",
    "}"
   ]
  },
  {
   "cell_type": "code",
   "execution_count": 22,
   "id": "3f9e08ae",
   "metadata": {},
   "outputs": [],
   "source": [
    "r = requests.post(\"https://accounts.spotify.com/api/token\", data=token_data, headers=token_headers)"
   ]
  },
  {
   "cell_type": "code",
   "execution_count": 23,
   "id": "cbd9e722",
   "metadata": {
    "scrolled": true
   },
   "outputs": [
    {
     "name": "stdout",
     "output_type": "stream",
     "text": [
      "{\"access_token\":\"BQAiGN0vLeefCuD6-4PZ_01QpXc0Plzk2aEbQrlSf1ZWrjAGmtnArw2s-ivBz4QFEGhOOrsJqv_uCMVN1cOozMKeLg7UF-mBp7X6Vmbe-h8tlmiSzq4_e7KeSCBEOdR0GPxhh78ZPaDlfdIRcawkY0FtKwoMkkRlj6RbikmMUYBWDDe8vJ6B9uh2NLew7mcjnaey\",\"token_type\":\"Bearer\",\"expires_in\":3600,\"refresh_token\":\"AQAEkBszaz7qTiSYpXHLGc4gQSqT36bvFmzpJQxON2PSGQIC6h1hidVxNpX6JY3H9_fH0hmcM0DnOGl7iNulRRI3TRJG8_nLaVMcobVejai5Hhb1ollSSQJfRgoYAVsFLAs\",\"scope\":\"user-library-read\"}\n"
     ]
    }
   ],
   "source": [
    "print(r.text)"
   ]
  },
  {
   "cell_type": "code",
   "execution_count": 29,
   "id": "66dec4b1",
   "metadata": {},
   "outputs": [],
   "source": [
    "token = r.json()[\"access_token\"]"
   ]
  },
  {
   "cell_type": "code",
   "execution_count": 30,
   "id": "25bae3a0",
   "metadata": {
    "scrolled": true
   },
   "outputs": [
    {
     "name": "stdout",
     "output_type": "stream",
     "text": [
      "BQAiGN0vLeefCuD6-4PZ_01QpXc0Plzk2aEbQrlSf1ZWrjAGmtnArw2s-ivBz4QFEGhOOrsJqv_uCMVN1cOozMKeLg7UF-mBp7X6Vmbe-h8tlmiSzq4_e7KeSCBEOdR0GPxhh78ZPaDlfdIRcawkY0FtKwoMkkRlj6RbikmMUYBWDDe8vJ6B9uh2NLew7mcjnaey\n"
     ]
    }
   ],
   "source": [
    "print(token)"
   ]
  },
  {
   "cell_type": "code",
   "execution_count": null,
   "id": "3119ec46",
   "metadata": {},
   "outputs": [],
   "source": []
  }
 ],
 "metadata": {
  "kernelspec": {
   "display_name": "Python 3 (ipykernel)",
   "language": "python",
   "name": "python3"
  },
  "language_info": {
   "codemirror_mode": {
    "name": "ipython",
    "version": 3
   },
   "file_extension": ".py",
   "mimetype": "text/x-python",
   "name": "python",
   "nbconvert_exporter": "python",
   "pygments_lexer": "ipython3",
   "version": "3.9.13"
  }
 },
 "nbformat": 4,
 "nbformat_minor": 5
}
